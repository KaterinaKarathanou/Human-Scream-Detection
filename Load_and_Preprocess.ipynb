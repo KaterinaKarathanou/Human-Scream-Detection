{
  "cells": [
    {
      "cell_type": "markdown",
      "source": [
        "## Load and Preprocess"
      ],
      "metadata": {
        "id": "sFUacsjLEIwu"
      }
    },
    {
      "cell_type": "markdown",
      "metadata": {
        "id": "sG7p2yDpsCEc"
      },
      "source": [
        "#### Importing Libraries\n"
      ]
    },
    {
      "cell_type": "code",
      "execution_count": 2,
      "metadata": {
        "colab": {
          "base_uri": "https://localhost:8080/"
        },
        "collapsed": true,
        "id": "Q-8VRQIujksU",
        "outputId": "c8fb7267-e9d2-473f-ff40-32a896423bbe"
      },
      "outputs": [
        {
          "output_type": "stream",
          "name": "stdout",
          "text": [
            "Requirement already satisfied: librosa in /usr/local/lib/python3.10/dist-packages (0.10.2.post1)\n",
            "Requirement already satisfied: tensorflow in /usr/local/lib/python3.10/dist-packages (2.15.0)\n",
            "Requirement already satisfied: matplotlib in /usr/local/lib/python3.10/dist-packages (3.7.1)\n",
            "Requirement already satisfied: audioread>=2.1.9 in /usr/local/lib/python3.10/dist-packages (from librosa) (3.0.1)\n",
            "Requirement already satisfied: numpy!=1.22.0,!=1.22.1,!=1.22.2,>=1.20.3 in /usr/local/lib/python3.10/dist-packages (from librosa) (1.25.2)\n",
            "Requirement already satisfied: scipy>=1.2.0 in /usr/local/lib/python3.10/dist-packages (from librosa) (1.11.4)\n",
            "Requirement already satisfied: scikit-learn>=0.20.0 in /usr/local/lib/python3.10/dist-packages (from librosa) (1.2.2)\n",
            "Requirement already satisfied: joblib>=0.14 in /usr/local/lib/python3.10/dist-packages (from librosa) (1.4.2)\n",
            "Requirement already satisfied: decorator>=4.3.0 in /usr/local/lib/python3.10/dist-packages (from librosa) (4.4.2)\n",
            "Requirement already satisfied: numba>=0.51.0 in /usr/local/lib/python3.10/dist-packages (from librosa) (0.58.1)\n",
            "Requirement already satisfied: soundfile>=0.12.1 in /usr/local/lib/python3.10/dist-packages (from librosa) (0.12.1)\n",
            "Requirement already satisfied: pooch>=1.1 in /usr/local/lib/python3.10/dist-packages (from librosa) (1.8.1)\n",
            "Requirement already satisfied: soxr>=0.3.2 in /usr/local/lib/python3.10/dist-packages (from librosa) (0.3.7)\n",
            "Requirement already satisfied: typing-extensions>=4.1.1 in /usr/local/lib/python3.10/dist-packages (from librosa) (4.12.1)\n",
            "Requirement already satisfied: lazy-loader>=0.1 in /usr/local/lib/python3.10/dist-packages (from librosa) (0.4)\n",
            "Requirement already satisfied: msgpack>=1.0 in /usr/local/lib/python3.10/dist-packages (from librosa) (1.0.8)\n",
            "Requirement already satisfied: absl-py>=1.0.0 in /usr/local/lib/python3.10/dist-packages (from tensorflow) (1.4.0)\n",
            "Requirement already satisfied: astunparse>=1.6.0 in /usr/local/lib/python3.10/dist-packages (from tensorflow) (1.6.3)\n",
            "Requirement already satisfied: flatbuffers>=23.5.26 in /usr/local/lib/python3.10/dist-packages (from tensorflow) (24.3.25)\n",
            "Requirement already satisfied: gast!=0.5.0,!=0.5.1,!=0.5.2,>=0.2.1 in /usr/local/lib/python3.10/dist-packages (from tensorflow) (0.5.4)\n",
            "Requirement already satisfied: google-pasta>=0.1.1 in /usr/local/lib/python3.10/dist-packages (from tensorflow) (0.2.0)\n",
            "Requirement already satisfied: h5py>=2.9.0 in /usr/local/lib/python3.10/dist-packages (from tensorflow) (3.9.0)\n",
            "Requirement already satisfied: libclang>=13.0.0 in /usr/local/lib/python3.10/dist-packages (from tensorflow) (18.1.1)\n",
            "Requirement already satisfied: ml-dtypes~=0.2.0 in /usr/local/lib/python3.10/dist-packages (from tensorflow) (0.2.0)\n",
            "Requirement already satisfied: opt-einsum>=2.3.2 in /usr/local/lib/python3.10/dist-packages (from tensorflow) (3.3.0)\n",
            "Requirement already satisfied: packaging in /usr/local/lib/python3.10/dist-packages (from tensorflow) (24.0)\n",
            "Requirement already satisfied: protobuf!=4.21.0,!=4.21.1,!=4.21.2,!=4.21.3,!=4.21.4,!=4.21.5,<5.0.0dev,>=3.20.3 in /usr/local/lib/python3.10/dist-packages (from tensorflow) (3.20.3)\n",
            "Requirement already satisfied: setuptools in /usr/local/lib/python3.10/dist-packages (from tensorflow) (67.7.2)\n",
            "Requirement already satisfied: six>=1.12.0 in /usr/local/lib/python3.10/dist-packages (from tensorflow) (1.16.0)\n",
            "Requirement already satisfied: termcolor>=1.1.0 in /usr/local/lib/python3.10/dist-packages (from tensorflow) (2.4.0)\n",
            "Requirement already satisfied: wrapt<1.15,>=1.11.0 in /usr/local/lib/python3.10/dist-packages (from tensorflow) (1.14.1)\n",
            "Requirement already satisfied: tensorflow-io-gcs-filesystem>=0.23.1 in /usr/local/lib/python3.10/dist-packages (from tensorflow) (0.37.0)\n",
            "Requirement already satisfied: grpcio<2.0,>=1.24.3 in /usr/local/lib/python3.10/dist-packages (from tensorflow) (1.64.1)\n",
            "Requirement already satisfied: tensorboard<2.16,>=2.15 in /usr/local/lib/python3.10/dist-packages (from tensorflow) (2.15.2)\n",
            "Requirement already satisfied: tensorflow-estimator<2.16,>=2.15.0 in /usr/local/lib/python3.10/dist-packages (from tensorflow) (2.15.0)\n",
            "Requirement already satisfied: keras<2.16,>=2.15.0 in /usr/local/lib/python3.10/dist-packages (from tensorflow) (2.15.0)\n",
            "Requirement already satisfied: contourpy>=1.0.1 in /usr/local/lib/python3.10/dist-packages (from matplotlib) (1.2.1)\n",
            "Requirement already satisfied: cycler>=0.10 in /usr/local/lib/python3.10/dist-packages (from matplotlib) (0.12.1)\n",
            "Requirement already satisfied: fonttools>=4.22.0 in /usr/local/lib/python3.10/dist-packages (from matplotlib) (4.53.0)\n",
            "Requirement already satisfied: kiwisolver>=1.0.1 in /usr/local/lib/python3.10/dist-packages (from matplotlib) (1.4.5)\n",
            "Requirement already satisfied: pillow>=6.2.0 in /usr/local/lib/python3.10/dist-packages (from matplotlib) (9.4.0)\n",
            "Requirement already satisfied: pyparsing>=2.3.1 in /usr/local/lib/python3.10/dist-packages (from matplotlib) (3.1.2)\n",
            "Requirement already satisfied: python-dateutil>=2.7 in /usr/local/lib/python3.10/dist-packages (from matplotlib) (2.8.2)\n",
            "Requirement already satisfied: wheel<1.0,>=0.23.0 in /usr/local/lib/python3.10/dist-packages (from astunparse>=1.6.0->tensorflow) (0.43.0)\n",
            "Requirement already satisfied: llvmlite<0.42,>=0.41.0dev0 in /usr/local/lib/python3.10/dist-packages (from numba>=0.51.0->librosa) (0.41.1)\n",
            "Requirement already satisfied: platformdirs>=2.5.0 in /usr/local/lib/python3.10/dist-packages (from pooch>=1.1->librosa) (4.2.2)\n",
            "Requirement already satisfied: requests>=2.19.0 in /usr/local/lib/python3.10/dist-packages (from pooch>=1.1->librosa) (2.31.0)\n",
            "Requirement already satisfied: threadpoolctl>=2.0.0 in /usr/local/lib/python3.10/dist-packages (from scikit-learn>=0.20.0->librosa) (3.5.0)\n",
            "Requirement already satisfied: cffi>=1.0 in /usr/local/lib/python3.10/dist-packages (from soundfile>=0.12.1->librosa) (1.16.0)\n",
            "Requirement already satisfied: google-auth<3,>=1.6.3 in /usr/local/lib/python3.10/dist-packages (from tensorboard<2.16,>=2.15->tensorflow) (2.27.0)\n",
            "Requirement already satisfied: google-auth-oauthlib<2,>=0.5 in /usr/local/lib/python3.10/dist-packages (from tensorboard<2.16,>=2.15->tensorflow) (1.2.0)\n",
            "Requirement already satisfied: markdown>=2.6.8 in /usr/local/lib/python3.10/dist-packages (from tensorboard<2.16,>=2.15->tensorflow) (3.6)\n",
            "Requirement already satisfied: tensorboard-data-server<0.8.0,>=0.7.0 in /usr/local/lib/python3.10/dist-packages (from tensorboard<2.16,>=2.15->tensorflow) (0.7.2)\n",
            "Requirement already satisfied: werkzeug>=1.0.1 in /usr/local/lib/python3.10/dist-packages (from tensorboard<2.16,>=2.15->tensorflow) (3.0.3)\n",
            "Requirement already satisfied: pycparser in /usr/local/lib/python3.10/dist-packages (from cffi>=1.0->soundfile>=0.12.1->librosa) (2.22)\n",
            "Requirement already satisfied: cachetools<6.0,>=2.0.0 in /usr/local/lib/python3.10/dist-packages (from google-auth<3,>=1.6.3->tensorboard<2.16,>=2.15->tensorflow) (5.3.3)\n",
            "Requirement already satisfied: pyasn1-modules>=0.2.1 in /usr/local/lib/python3.10/dist-packages (from google-auth<3,>=1.6.3->tensorboard<2.16,>=2.15->tensorflow) (0.4.0)\n",
            "Requirement already satisfied: rsa<5,>=3.1.4 in /usr/local/lib/python3.10/dist-packages (from google-auth<3,>=1.6.3->tensorboard<2.16,>=2.15->tensorflow) (4.9)\n",
            "Requirement already satisfied: requests-oauthlib>=0.7.0 in /usr/local/lib/python3.10/dist-packages (from google-auth-oauthlib<2,>=0.5->tensorboard<2.16,>=2.15->tensorflow) (1.3.1)\n",
            "Requirement already satisfied: charset-normalizer<4,>=2 in /usr/local/lib/python3.10/dist-packages (from requests>=2.19.0->pooch>=1.1->librosa) (3.3.2)\n",
            "Requirement already satisfied: idna<4,>=2.5 in /usr/local/lib/python3.10/dist-packages (from requests>=2.19.0->pooch>=1.1->librosa) (3.7)\n",
            "Requirement already satisfied: urllib3<3,>=1.21.1 in /usr/local/lib/python3.10/dist-packages (from requests>=2.19.0->pooch>=1.1->librosa) (2.0.7)\n",
            "Requirement already satisfied: certifi>=2017.4.17 in /usr/local/lib/python3.10/dist-packages (from requests>=2.19.0->pooch>=1.1->librosa) (2024.6.2)\n",
            "Requirement already satisfied: MarkupSafe>=2.1.1 in /usr/local/lib/python3.10/dist-packages (from werkzeug>=1.0.1->tensorboard<2.16,>=2.15->tensorflow) (2.1.5)\n",
            "Requirement already satisfied: pyasn1<0.7.0,>=0.4.6 in /usr/local/lib/python3.10/dist-packages (from pyasn1-modules>=0.2.1->google-auth<3,>=1.6.3->tensorboard<2.16,>=2.15->tensorflow) (0.6.0)\n",
            "Requirement already satisfied: oauthlib>=3.0.0 in /usr/local/lib/python3.10/dist-packages (from requests-oauthlib>=0.7.0->google-auth-oauthlib<2,>=0.5->tensorboard<2.16,>=2.15->tensorflow) (3.2.2)\n"
          ]
        }
      ],
      "source": [
        "#Installing the needed libraries\n",
        "!pip install librosa tensorflow matplotlib\n"
      ]
    },
    {
      "cell_type": "code",
      "execution_count": 4,
      "metadata": {
        "id": "a_XuNuXmjkq1"
      },
      "outputs": [],
      "source": [
        "import os\n",
        "import librosa\n",
        "import numpy as np\n",
        "import pandas as pd\n",
        "import matplotlib.pyplot as plt"
      ]
    },
    {
      "cell_type": "code",
      "execution_count": 5,
      "metadata": {
        "colab": {
          "base_uri": "https://localhost:8080/"
        },
        "id": "rWUbLVfjqVbs",
        "outputId": "b8c4af83-b318-4385-c0cf-786db15133e4"
      },
      "outputs": [
        {
          "output_type": "stream",
          "name": "stdout",
          "text": [
            "Mounted at /content/drive\n"
          ]
        }
      ],
      "source": [
        "from google.colab import drive\n",
        "drive.mount('/content/drive')"
      ]
    },
    {
      "cell_type": "code",
      "execution_count": 6,
      "metadata": {
        "id": "zldTvQyjjkpL"
      },
      "outputs": [],
      "source": [
        "screaming_file_path = '/content/drive/My Drive/DeepLearning/code/dataset/Screaming'\n",
        "notScreaming_file_path = '/content/drive/My Drive/DeepLearning/code/dataset/NotScreaming'\n",
        "train_file_path = '/content/drive/My Drive/DeepLearning/code/dataset/Train_audios'"
      ]
    },
    {
      "cell_type": "markdown",
      "source": [
        "Applying zero-padding in order to have the same durations to all data."
      ],
      "metadata": {
        "id": "pCp_glWhD5eS"
      }
    },
    {
      "cell_type": "code",
      "source": [
        "import os\n",
        "import numpy as np\n",
        "import pandas as pd\n",
        "import librosa\n",
        "from sklearn.preprocessing import LabelEncoder\n",
        "from tensorflow.keras.utils import to_categorical\n",
        "from sklearn.model_selection import train_test_split\n",
        "\n",
        "def pad_audio(audio, sr, max_length):\n",
        "    max_len_samples = int(max_length * sr)\n",
        "    if len(audio) < max_len_samples:\n",
        "        # Pad the audio with zeros (silence)\n",
        "        padding = max_len_samples - len(audio)\n",
        "        audio = np.pad(audio, (0, padding), mode='constant')\n",
        "    else:\n",
        "        # Truncate the audio\n",
        "        audio = audio[:max_len_samples]\n",
        "    return audio\n",
        "\n",
        "def extract_features(file_path):\n",
        "    max_length = 10.0\n",
        "    y, sr = librosa.load(file_path, sr=None)\n",
        "    y = pad_audio(y, sr, max_length)\n",
        "    features = []\n",
        "\n",
        "    # Extract features\n",
        "    duration = librosa.get_duration(y=y, sr=sr)\n",
        "    amplitude = np.max(np.abs(y))\n",
        "    zcr = np.mean(librosa.feature.zero_crossing_rate(y))\n",
        "    mfcc = np.mean(librosa.feature.mfcc(y=y, sr=sr, n_mfcc=13), axis=1)\n",
        "    chroma = np.mean(librosa.feature.chroma_stft(y=y, sr=sr, n_chroma=12), axis=1)\n",
        "    mel_spectrogram = np.mean(librosa.feature.melspectrogram(y=y, sr=sr, n_mels=40), axis=1)\n",
        "    spectral_centroid = np.mean(librosa.feature.spectral_centroid(y=y, sr=sr))\n",
        "    spectral_bandwidth = np.mean(librosa.feature.spectral_bandwidth(y=y, sr=sr))\n",
        "    spectral_rolloff = np.mean(librosa.feature.spectral_rolloff(y=y, sr=sr))\n",
        "    spectral_flux = np.mean(librosa.onset.onset_strength(y=y, sr=sr))\n",
        "    spectral_contrast = np.mean(librosa.feature.spectral_contrast(y=y, sr=sr))\n",
        "    spectral_flatness = np.mean(librosa.feature.spectral_flatness(y=y))\n",
        "    rms = np.mean(librosa.feature.rms(y=y))\n",
        "    energy = np.sum(y**2)\n",
        "\n",
        "    # Append all features to the list\n",
        "    features.extend([duration, amplitude, zcr, spectral_centroid, spectral_bandwidth, spectral_rolloff, spectral_flux, spectral_flatness, rms, energy])\n",
        "    features.extend(mfcc)\n",
        "    features.extend(chroma)\n",
        "    features.extend(mel_spectrogram)\n",
        "    features.append(spectral_contrast)  # Append the float value as an element in the list\n",
        "\n",
        "    return np.array(features)\n",
        "\n",
        "def load_and_preprocess_data(scream_folder, non_scream_folder):\n",
        "    features = []\n",
        "    labels = []\n",
        "    file_paths = []\n",
        "\n",
        "    # Load scream data\n",
        "    for filename in os.listdir(scream_folder):\n",
        "        if filename.endswith('.wav'):\n",
        "            path = os.path.join(scream_folder, filename)\n",
        "            feature = extract_features(path)\n",
        "            features.append(feature)\n",
        "            labels.append(1)  # Use integer labels, e.g., 1 for scream\n",
        "            file_paths.append(path)\n",
        "\n",
        "    # Load non-scream data\n",
        "    for filename in os.listdir(non_scream_folder):\n",
        "        if filename.endswith('.wav'):\n",
        "            path = os.path.join(non_scream_folder, filename)\n",
        "            feature = extract_features(path)\n",
        "            features.append(feature)\n",
        "            labels.append(0)  # Use integer labels, e.g., 0 for non-scream\n",
        "            file_paths.append(path)\n",
        "\n",
        "    X = np.array(features)\n",
        "    y = np.array(labels)\n",
        "\n",
        "    audio_data_df = pd.DataFrame(X)\n",
        "\n",
        "    csv_path = '/content/drive/My Drive/DeepLearning/code/dataset/audio_data.csv'\n",
        "    audio_data_df.to_csv(csv_path, index=False)\n",
        "\n",
        "    # Encode labels using LabelEncoder\n",
        "    le = LabelEncoder()\n",
        "    y = le.fit_transform(y)\n",
        "\n",
        "    # Convert to one-hot encoding\n",
        "    y = to_categorical(y)\n",
        "\n",
        "    # Split data into training, validation, and testing sets\n",
        "    X_train, X_temp, y_train, y_temp, file_paths_train, file_paths_temp = train_test_split(X, y, file_paths, train_size=0.8, random_state=42)\n",
        "    X_val, X_test, y_val, y_test, file_paths_val, file_paths_test = train_test_split(X_temp, y_temp, file_paths_temp, train_size=0.5, random_state=42)\n",
        "\n",
        "    return X_train, X_val, X_test, y_train, y_val, y_test, file_paths_train, file_paths_val, file_paths_test\n"
      ],
      "metadata": {
        "id": "EkOHNZBvcB-W"
      },
      "execution_count": 7,
      "outputs": []
    },
    {
      "cell_type": "code",
      "source": [
        "import os\n",
        "import shutil\n",
        "\n",
        "def save_train_audios(file_paths_train, y_train, output_folder):\n",
        "    if not os.path.exists(output_folder):\n",
        "        os.makedirs(output_folder)\n",
        "\n",
        "    for file_path, label in zip(file_paths_train, y_train):\n",
        "        file_name = os.path.basename(file_path)\n",
        "        source_folder = os.path.dirname(file_path)\n",
        "\n",
        "        class_label = label.argmax()  # Convert one-hot encoding to integer label\n",
        "        new_file_name = f\"{os.path.splitext(file_name)[0]}_{class_label}.wav\"\n",
        "        shutil.copy(file_path, os.path.join(output_folder, new_file_name))"
      ],
      "metadata": {
        "id": "_Hf8OSeEijBa"
      },
      "execution_count": 8,
      "outputs": []
    },
    {
      "cell_type": "code",
      "source": [
        "X_train, X_val, X_test, y_train, y_val, y_test, file_paths_train, file_paths_val, file_paths_test = load_and_preprocess_data(screaming_file_path, notScreaming_file_path)"
      ],
      "metadata": {
        "colab": {
          "base_uri": "https://localhost:8080/"
        },
        "id": "WqyHgkVRiq8s",
        "outputId": "dd3fa5b1-b439-4931-be51-79da4984e6f2"
      },
      "execution_count": 9,
      "outputs": [
        {
          "output_type": "stream",
          "name": "stderr",
          "text": [
            "/usr/local/lib/python3.10/dist-packages/librosa/core/pitch.py:101: UserWarning: Trying to estimate tuning from empty frequency set.\n",
            "  return pitch_tuning(\n"
          ]
        }
      ]
    },
    {
      "cell_type": "markdown",
      "source": [
        "Saving train audios in a folder, that will be useful to our next steps."
      ],
      "metadata": {
        "id": "5vgBJe4RJd2_"
      }
    },
    {
      "cell_type": "code",
      "source": [
        "save_train_audios(file_paths_train, y_train, train_file_path)"
      ],
      "metadata": {
        "id": "_XP3BfLNqHX2"
      },
      "execution_count": 10,
      "outputs": []
    },
    {
      "cell_type": "code",
      "execution_count": 11,
      "metadata": {
        "colab": {
          "base_uri": "https://localhost:8080/"
        },
        "id": "9aAUkiD7HnqU",
        "outputId": "09c2fe75-6662-49c3-c5ae-83fa2da2b28f"
      },
      "outputs": [
        {
          "output_type": "execute_result",
          "data": {
            "text/plain": [
              "((2794, 76), (349, 76), (350, 76))"
            ]
          },
          "metadata": {},
          "execution_count": 11
        }
      ],
      "source": [
        "X_train.shape, X_val.shape, X_test.shape"
      ]
    },
    {
      "cell_type": "code",
      "execution_count": 12,
      "metadata": {
        "id": "vgj73BsBjkWF"
      },
      "outputs": [],
      "source": [
        "x_train1 = X_train\n",
        "x_test1 = X_test\n",
        "y_train1 = y_train\n",
        "y_test1 = y_test\n",
        "x_val1 = X_val\n",
        "y_val1 = y_val"
      ]
    },
    {
      "cell_type": "code",
      "execution_count": 13,
      "metadata": {
        "id": "CjGqdT8DmzMF"
      },
      "outputs": [],
      "source": [
        "save_dir = '/content/drive/My Drive/DeepLearning/code/dataset'\n",
        "np.savetxt(os.path.join(save_dir, \"train_data.csv\"), X_train, delimiter=\",\")\n",
        "np.savetxt(os.path.join(save_dir, \"test_data.csv\"), X_test, delimiter=\",\")\n",
        "np.savetxt(os.path.join(save_dir, \"train_labels.csv\"), y_train, delimiter=\",\")\n",
        "np.savetxt(os.path.join(save_dir, \"test_labels.csv\"), y_test, delimiter=\",\")\n",
        "np.savetxt(os.path.join(save_dir, \"x_val.csv\"), X_val, delimiter=\",\")\n",
        "np.savetxt(os.path.join(save_dir, \"y_val.csv\"), y_val, delimiter=\",\")"
      ]
    },
    {
      "cell_type": "code",
      "source": [
        "arrays = [y_train, y_val, y_test]\n",
        "fig, axes = plt.subplots(1, 3, figsize=(15, 5))\n",
        "print('Showing the bar plots of Train Dataset, Validation Dataset and Test Dataset')\n",
        "for i, arr in enumerate(arrays):\n",
        "    class_counts = np.sum(arr, axis=0)\n",
        "    axes[i].bar(np.arange(len(class_counts)), class_counts, color=['blue', 'orange'])\n",
        "    axes[i].set_title(f'{i} Label Counts')\n",
        "    axes[i].set_xlabel('Class')\n",
        "    axes[i].set_ylabel('Count')\n",
        "    axes[i].set_xticks(np.arange(len(class_counts)))\n",
        "    axes[i].set_xticklabels(['Class 0', 'Class 1'])\n",
        "plt.tight_layout()\n",
        "plt.show()"
      ],
      "metadata": {
        "id": "aZfjOCz-sHoZ",
        "colab": {
          "base_uri": "https://localhost:8080/",
          "height": 495
        },
        "outputId": "f68bd79e-110f-4e84-903e-d79bcf71236f"
      },
      "execution_count": 16,
      "outputs": [
        {
          "output_type": "stream",
          "name": "stdout",
          "text": [
            "Showing the bar plots of Train Dataset, Validation Dataset and Test Dataset\n"
          ]
        },
        {
          "output_type": "display_data",
          "data": {
            "text/plain": [
              "<Figure size 1500x500 with 3 Axes>"
            ],
            "image/png": "[encoded data removed]"
          },
          "metadata": {}
        }
      ]
    }
  ],
  "metadata": {
    "colab": {
      "provenance": []
    },
    "kernelspec": {
      "display_name": "Python 3",
      "name": "python3"
    },
    "language_info": {
      "name": "python"
    }
  },
  "nbformat": 4,
  "nbformat_minor": 0
}