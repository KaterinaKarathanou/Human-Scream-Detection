{
  "nbformat": 4,
  "nbformat_minor": 0,
  "metadata": {
    "colab": {
      "provenance": []
    },
    "kernelspec": {
      "name": "python3",
      "display_name": "Python 3"
    },
    "language_info": {
      "name": "python"
    }
  },
  "cells": [
    {
      "cell_type": "markdown",
      "source": [
        "## Load and Preprocess"
      ],
      "metadata": {
        "id": "XALf3Ei--r1Y"
      }
    },
    {
      "cell_type": "markdown",
      "source": [
        "#### Importing Libraries"
      ],
      "metadata": {
        "id": "8Nowm8l0_K6z"
      }
    },
    {
      "cell_type": "code",
      "execution_count": null,
      "metadata": {
        "id": "1O420esE-HKe",
        "collapsed": true
      },
      "outputs": [],
      "source": [
        "#Installing the needed libraries\n",
        "!pip install librosa tensorflow matplotlib"
      ]
    },
    {
      "cell_type": "code",
      "source": [
        "import os\n",
        "import numpy as np\n",
        "import pandas as pd\n",
        "from sklearn.preprocessing import LabelEncoder\n",
        "from sklearn.model_selection import train_test_split\n",
        "import librosa\n",
        "from tensorflow.keras.utils import to_categorical\n",
        "import shutil\n",
        "import matplotlib.pyplot as plt"
      ],
      "metadata": {
        "id": "2dFfbAOc_PkZ"
      },
      "execution_count": 2,
      "outputs": []
    },
    {
      "cell_type": "code",
      "source": [
        "from google.colab import drive\n",
        "drive.mount('/content/drive')"
      ],
      "metadata": {
        "id": "JFNl74iT_Whb",
        "colab": {
          "base_uri": "https://localhost:8080/"
        },
        "outputId": "81b2131d-bba5-4a34-83fa-e7c4775f5028"
      },
      "execution_count": 3,
      "outputs": [
        {
          "output_type": "stream",
          "name": "stdout",
          "text": [
            "Mounted at /content/drive\n"
          ]
        }
      ]
    },
    {
      "cell_type": "code",
      "source": [
        "screaming_file_path = '/content/drive/My Drive/DeepLearning/code/dataset/Screaming'\n",
        "notScreaming_file_path = '/content/drive/My Drive/DeepLearning/code/dataset/NotScreaming'\n",
        "train_file_path = '/content/drive/My Drive/DeepLearning/Train_audios'"
      ],
      "metadata": {
        "id": "DY-gz5j5_ZjC"
      },
      "execution_count": 4,
      "outputs": []
    },
    {
      "cell_type": "code",
      "source": [
        "\n",
        "WINDOW_LENGTH = 0.025\n",
        "HOP_LENGTH = 0.01\n",
        "max_length = 10.0\n",
        "\n",
        "def pad_audio(audio, sr, max_length):\n",
        "    max_len_samples = int(max_length * sr)\n",
        "    if len(audio) < max_len_samples:\n",
        "        padding = max_len_samples - len(audio)\n",
        "        audio = np.pad(audio, (0, padding), mode='constant')\n",
        "    else:\n",
        "        audio = audio[:max_len_samples]\n",
        "    return audio\n",
        "\n",
        "def load_wav(filename):\n",
        "    \"\"\"Rea audio file and return audio signal and sampling frequency\"\"\"\n",
        "    if not os.path.exists(filename):\n",
        "        raise FileNotFoundError\n",
        "    # Load file using librosa\n",
        "    x, fs = librosa.load(filename, sr=None)\n",
        "    return x, fs\n",
        "\n",
        "def get_melspectrogram(x=None, fs=None, n_fft=None, hop_length=None,\n",
        "                       fuse=False):\n",
        "    \"\"\"Returns a mel spectrogram.\"\"\"\n",
        "\n",
        "    if x is None:\n",
        "        return None\n",
        "    # Set some values\n",
        "    if n_fft is None:\n",
        "        n_fft = int(WINDOW_LENGTH * fs)\n",
        "    if hop_length is None:\n",
        "        hop_length = int(HOP_LENGTH * fs)\n",
        "    # Get spectrogram\n",
        "    spectrogram = librosa.feature.melspectrogram(y=x, sr=fs, n_fft=n_fft,\n",
        "                                                 hop_length=hop_length)\n",
        "    # Convert to MEL-Scale\n",
        "    spectrogram_dB = librosa.power_to_db(spectrogram, ref=np.max)  # (n_mel,t)\n",
        "\n",
        "    if fuse:\n",
        "        chroma = librosa.feature.chroma_stft(y=x, sr=fs, n_fft=n_fft,\n",
        "                                             hop_length=hop_length)\n",
        "        chroma_dB = librosa.power_to_db(chroma)\n",
        "        out = np.concatenate((spectrogram_dB.T, chroma_dB.T), axis=1)\n",
        "    else:\n",
        "        # Transpose to return (time,n_mel)\n",
        "        out = spectrogram_dB.T\n",
        "    return out\n",
        "\n",
        "\n",
        "def preview_melspectrogram(spectrogram=None, filename='spectrogram.png'):\n",
        "    \"\"\"Save a given spectrogram as an image.\"\"\"\n",
        "\n",
        "    if spectrogram is None:\n",
        "        raise AssertionError\n",
        "\n",
        "    import matplotlib.pyplot as plt\n",
        "    import librosa.display\n",
        "\n",
        "    plt.figure(figsize=(10, 4))\n",
        "    # Spectrogram already in mel scale\n",
        "    librosa.display.specshow(spectrogram)\n",
        "    plt.colorbar(format='%+2.0f dB')\n",
        "    plt.title('Mel-frequency spectrogram')\n",
        "    plt.tight_layout()\n",
        "    plt.savefig(filename)\n",
        "    return plt\n",
        "\n",
        "def read_mel_spectrogram(spectrogram_file):\n",
        "    spectrogram = np.load(spectrogram_file)\n",
        "    print(spectrogram)\n",
        "    spectrogram = spectrogram[:128]\n",
        "    return spectrogram.T"
      ],
      "metadata": {
        "id": "Ue9jl24nV9lw"
      },
      "execution_count": 5,
      "outputs": []
    },
    {
      "cell_type": "code",
      "source": [
        "def load_and_preprocess_data(screaming_folder,notScreaming_folder):\n",
        "    features = []\n",
        "    labels = []\n",
        "    file_paths = []\n",
        "\n",
        "    for file in os.listdir(screaming_folder):\n",
        "        file_path = os.path.join(screaming_folder, file)\n",
        "        if os.path.isfile(file_path):\n",
        "            x, fs = load_wav(file_path)\n",
        "            x = pad_audio(x, fs, max_length)\n",
        "            mel_spectrogram = get_melspectrogram(x, fs)\n",
        "            features.append(mel_spectrogram)\n",
        "            labels.append('1')\n",
        "            file_paths.append(file_path)\n",
        "\n",
        "    for file in os.listdir(notScreaming_folder):\n",
        "        file_path = os.path.join(notScreaming_folder, file)\n",
        "        if os.path.isfile(file_path):\n",
        "            x, fs = load_wav(file_path)\n",
        "            x = pad_audio(x, fs, max_length)\n",
        "            mel_spectrogram = get_melspectrogram(x, fs)\n",
        "            features.append(mel_spectrogram)\n",
        "            labels.append('0')\n",
        "            file_paths.append(file_path)\n",
        "\n",
        "    X = np.array(features)  # Keep the 3D shape (num_samples, time_steps, n_mels)\n",
        "    y = np.array(labels)\n",
        "\n",
        "    le = LabelEncoder()\n",
        "    y = le.fit_transform(y)\n",
        "\n",
        "    y = to_categorical(y)\n",
        "\n",
        "    X_train, X_temp, y_train, y_temp, file_paths_train, file_paths_temp = train_test_split(X, y, file_paths, train_size=0.8, random_state=42)\n",
        "    X_val, X_test, y_val, y_test, file_paths_val, file_paths_test = train_test_split(X_temp, y_temp, file_paths_temp, train_size=0.5, random_state=42)\n",
        "\n",
        "    return X_train, X_val, X_test, y_train, y_val, y_test, file_paths_train, file_paths_val, file_paths_test"
      ],
      "metadata": {
        "id": "gtrlj1-LlKfC"
      },
      "execution_count": 8,
      "outputs": []
    },
    {
      "cell_type": "code",
      "source": [
        "X_train, X_val, X_test, y_train, y_val, y_test, file_paths_train, file_paths_val, file_paths_test = load_and_preprocess_data(screaming_file_path, notScreaming_file_path )"
      ],
      "metadata": {
        "id": "5h4ldzghp3kQ"
      },
      "execution_count": 9,
      "outputs": []
    },
    {
      "cell_type": "code",
      "source": [
        "print(f\"X_train shape: {X_train.shape}\")\n",
        "print(f\"X_val shape: {X_val.shape}\")\n",
        "print(f\"X_test shape: {X_test.shape}\")\n",
        "print(f\"y_train shape: {y_train.shape}\")\n",
        "print(f\"y_val shape: {y_val.shape}\")\n",
        "print(f\"y_test shape: {y_test.shape}\")"
      ],
      "metadata": {
        "id": "Frd-sjrlZ635",
        "colab": {
          "base_uri": "https://localhost:8080/"
        },
        "outputId": "ac5c724f-8513-47e9-b7ba-4ffd41b3afff"
      },
      "execution_count": 10,
      "outputs": [
        {
          "output_type": "stream",
          "name": "stdout",
          "text": [
            "X_train shape: (2794, 1001, 128)\n",
            "X_val shape: (349, 1001, 128)\n",
            "X_test shape: (350, 1001, 128)\n",
            "y_train shape: (2794, 2)\n",
            "y_val shape: (349, 2)\n",
            "y_test shape: (350, 2)\n"
          ]
        }
      ]
    },
    {
      "cell_type": "markdown",
      "source": [
        "Save the X_train, y_train, X_test, y_test, X_val, y_val arrays as .npy files in order to use them to our NN models"
      ],
      "metadata": {
        "id": "6lqggiRayagW"
      }
    },
    {
      "cell_type": "code",
      "source": [
        "save_path = '/content/drive/My Drive/DeepLearning/'\n",
        "\n",
        "# Save arrays as .npy files\n",
        "np.save(save_path + 'X_train.npy', X_train)\n",
        "np.save(save_path + 'X_val.npy', X_val)\n",
        "np.save(save_path + 'X_test.npy', X_test)\n",
        "np.save(save_path + 'y_train.npy', y_train)\n",
        "np.save(save_path + 'y_val.npy', y_val)\n",
        "np.save(save_path + 'y_test.npy', y_test)"
      ],
      "metadata": {
        "id": "HlLVk7EQV9ju"
      },
      "execution_count": 11,
      "outputs": []
    },
    {
      "cell_type": "markdown",
      "source": [
        "Saving train audios in a folder, that will be useful to our next steps, such as to data augmentation."
      ],
      "metadata": {
        "id": "-njcMbIhyvXE"
      }
    },
    {
      "cell_type": "code",
      "source": [
        "def save_train_audios(file_paths_train, y_train, output_folder):\n",
        "    if not os.path.exists(output_folder):\n",
        "        os.makedirs(output_folder)\n",
        "\n",
        "    for file_path, label in zip(file_paths_train, y_train):\n",
        "        file_name = os.path.basename(file_path)\n",
        "        class_label = label.argmax()  # Convert one-hot encoding to integer label\n",
        "        new_file_name = f\"{os.path.splitext(file_name)[0]}_{class_label}.wav\"\n",
        "        shutil.copy(file_path, os.path.join(output_folder, new_file_name))"
      ],
      "metadata": {
        "id": "LMYNJFsZRPki"
      },
      "execution_count": 12,
      "outputs": []
    },
    {
      "cell_type": "code",
      "source": [
        "import shutil\n",
        "save_train_audios(file_paths_train, y_train, train_file_path)"
      ],
      "metadata": {
        "id": "GfdIGvymRYWH"
      },
      "execution_count": 13,
      "outputs": []
    },
    {
      "cell_type": "markdown",
      "source": [
        "Bar plots depicting the distribution of classes across training, validation, and test datasets."
      ],
      "metadata": {
        "id": "en0a7Cxb5KTJ"
      }
    },
    {
      "cell_type": "code",
      "source": [
        "import matplotlib.pyplot as plt\n",
        "\n",
        "\n",
        "arrays = [y_train, y_val, y_test]\n",
        "fig, axes = plt.subplots(1, 3, figsize=(15, 5))\n",
        "print('Showing the bar plots of Train Dataset, Validation Dataset, and Test Dataset')\n",
        "for i, arr in enumerate(arrays):\n",
        "    class_counts = np.sum(arr, axis=0)\n",
        "    axes[i].bar(np.arange(len(class_counts)), class_counts, color=['blue', 'orange'])\n",
        "    axes[i].set_title(f'{i} Label Counts')\n",
        "    axes[i].set_xlabel('Class')\n",
        "    axes[i].set_ylabel('Count')\n",
        "    axes[i].set_xticks(np.arange(len(class_counts)))\n",
        "    axes[i].set_xticklabels(['Class 0', 'Class 1'])\n",
        "plt.tight_layout()\n",
        "plt.show()"
      ],
      "metadata": {
        "id": "v4kn5uS_E40i",
        "colab": {
          "base_uri": "https://localhost:8080/",
          "height": 525
        },
        "outputId": "dcb0eecd-f659-48e5-c2ab-c5288443952d"
      },
      "execution_count": 14,
      "outputs": [
        {
          "output_type": "stream",
          "name": "stdout",
          "text": [
            "Showing the bar plots of Train Dataset, Validation Dataset, and Test Dataset\n"
          ]
        },
        {
          "output_type": "display_data",
          "data": {
            "text/plain": [
              "<Figure size 1500x500 with 3 Axes>"
            ],
            "image/png": "[encoded data removed]"
          },
          "metadata": {}
        }
      ]
    }
  ]
}