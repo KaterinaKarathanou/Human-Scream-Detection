{
  "nbformat": 4,
  "nbformat_minor": 0,
  "metadata": {
    "colab": {
      "provenance": []
    },
    "kernelspec": {
      "name": "python3",
      "display_name": "Python 3"
    },
    "language_info": {
      "name": "python"
    }
  },
  "cells": [
    {
      "cell_type": "markdown",
      "source": [
        "## Load and Preprocess of the dataset of London\n",
        "\n"
      ],
      "metadata": {
        "id": "XALf3Ei--r1Y"
      }
    },
    {
      "cell_type": "markdown",
      "source": [
        "#### Importing Libraries"
      ],
      "metadata": {
        "id": "8Nowm8l0_K6z"
      }
    },
    {
      "cell_type": "code",
      "execution_count": 1,
      "metadata": {
        "id": "1O420esE-HKe"
      },
      "outputs": [],
      "source": [
        "#Installing the needed libraries\n",
        "!pip install librosa tensorflow matplotlib"
      ]
    },
    {
      "cell_type": "code",
      "source": [
        "import os\n",
        "import numpy as np\n",
        "import pandas as pd\n",
        "from sklearn.preprocessing import LabelEncoder\n",
        "from sklearn.model_selection import train_test_split\n",
        "import librosa\n",
        "from tensorflow.keras.utils import to_categorical\n",
        "import shutil\n",
        "import matplotlib.pyplot as plt\n",
        "from sklearn.utils import shuffle"
      ],
      "metadata": {
        "id": "2dFfbAOc_PkZ"
      },
      "execution_count": 2,
      "outputs": []
    },
    {
      "cell_type": "code",
      "source": [
        "from google.colab import drive\n",
        "drive.mount('/content/drive')"
      ],
      "metadata": {
        "id": "JFNl74iT_Whb",
        "colab": {
          "base_uri": "https://localhost:8080/"
        },
        "outputId": "3575a857-06ce-46b4-b788-68d15c38f157"
      },
      "execution_count": 3,
      "outputs": [
        {
          "output_type": "stream",
          "name": "stdout",
          "text": [
            "Mounted at /content/drive\n"
          ]
        }
      ]
    },
    {
      "cell_type": "code",
      "source": [
        "positive_file_path = '/content/drive/My Drive/DeepLearning/code/deploy_dataset/positive'\n",
        "negative_file_path = '/content/drive/My Drive/DeepLearning/code/deploy_dataset/negative'"
      ],
      "metadata": {
        "id": "DY-gz5j5_ZjC"
      },
      "execution_count": 4,
      "outputs": []
    },
    {
      "cell_type": "code",
      "source": [
        "WINDOW_LENGTH = 0.025  # 25ms\n",
        "HOP_LENGTH = 0.01      # 10ms\n",
        "max_length = 10.0      # Maximum length of audio in seconds\n",
        "n_mels = 128           # Number of Mel bands to generate\n",
        "fixed_time_steps = 1001  # Fixed time steps for the mel spectrogram\n",
        "\n",
        "def pad_audio(audio, sr, max_length):\n",
        "    max_len_samples = int(max_length * sr)\n",
        "    if len(audio) < max_len_samples:\n",
        "        # Pad the audio with zeros (silence)\n",
        "        padding = max_len_samples - len(audio)\n",
        "        audio = np.pad(audio, (0, padding), mode='constant')\n",
        "    else:\n",
        "        # Truncate the audio\n",
        "        audio = audio[:max_len_samples]\n",
        "    return audio\n",
        "\n",
        "def load_wav(filename):\n",
        "    \"\"\"Read audio file and return audio signal and sampling frequency\"\"\"\n",
        "    if not os.path.exists(filename):\n",
        "        raise FileNotFoundError\n",
        "    # Load file using librosa\n",
        "    x, fs = librosa.load(filename, sr=None)\n",
        "    return x, fs\n",
        "\n",
        "def get_melspectrogram(x=None, fs=None, n_fft=None, hop_length=None):\n",
        "    \"\"\"Returns a mel spectrogram.\"\"\"\n",
        "    if x is None:\n",
        "        return None\n",
        "    # Set some values\n",
        "    if n_fft is None:\n",
        "        n_fft = int(WINDOW_LENGTH * fs)\n",
        "    if hop_length is None:\n",
        "        hop_length = int(HOP_LENGTH * fs)\n",
        "    # Get spectrogram\n",
        "    spectrogram = librosa.feature.melspectrogram(y=x, sr=fs, n_fft=n_fft,\n",
        "                                                 hop_length=hop_length,\n",
        "                                                 n_mels=n_mels)\n",
        "    # Convert to MEL-Scale\n",
        "    spectrogram_dB = librosa.power_to_db(spectrogram, ref=np.max)  # (n_mels, t)\n",
        "    # Transpose to return (time, n_mels)\n",
        "    return spectrogram_dB.T\n",
        "\n",
        "def pad_spectrogram(spectrogram, fixed_time_steps, n_mels):\n",
        "    \"\"\"Pad or truncate the spectrogram to the fixed size.\"\"\"\n",
        "    if spectrogram.shape[0] < fixed_time_steps:\n",
        "        padding = fixed_time_steps - spectrogram.shape[0]\n",
        "        spectrogram = np.pad(spectrogram, ((0, padding), (0, 0)), mode='constant')\n",
        "    else:\n",
        "        spectrogram = spectrogram[:fixed_time_steps, :]\n",
        "\n",
        "    return spectrogram"
      ],
      "metadata": {
        "id": "CCNXyIwed1bP"
      },
      "execution_count": 5,
      "outputs": []
    },
    {
      "cell_type": "code",
      "source": [
        "def load_and_preprocess_data(positive_folder, negative_folder):\n",
        "    features = []\n",
        "    labels = []\n",
        "\n",
        "    for folder, label in [(positive_folder, '1'), (negative_folder, '0')]:\n",
        "        for file in os.listdir(folder):\n",
        "            file_path = os.path.join(folder, file)\n",
        "            if os.path.isfile(file_path):\n",
        "                x, fs = load_wav(file_path)\n",
        "                x = pad_audio(x, fs, max_length)\n",
        "                mel_spectrogram = get_melspectrogram(x, fs)\n",
        "                mel_spectrogram = pad_spectrogram(mel_spectrogram, fixed_time_steps, n_mels)\n",
        "                features.append(mel_spectrogram)\n",
        "                labels.append(label)\n",
        "\n",
        "    X = np.array(features)  # Keep the 3D shape (num_samples, time_steps, n_mels)\n",
        "    y = np.array(labels)\n",
        "\n",
        "    le = LabelEncoder()\n",
        "    y = le.fit_transform(y)\n",
        "\n",
        "    y = to_categorical(y)\n",
        "    X_train, X_temp, y_train, y_temp = train_test_split(X, y, train_size=0.8, stratify=y, random_state=42)\n",
        "    X_val, X_test, y_val, y_test = train_test_split(X_temp, y_temp, train_size=0.5, stratify=y_temp, random_state=42)\n",
        "\n",
        "    return X_train, y_train, X_val, X_test, y_val, y_test"
      ],
      "metadata": {
        "id": "KrorKRAQeCi8"
      },
      "execution_count": 8,
      "outputs": []
    },
    {
      "cell_type": "code",
      "source": [
        "X_LDN_train, y_LDN_train, X_LDN_val, X_LDN_test, y_LDN_val, y_LDN_test = load_and_preprocess_data(positive_file_path, negative_file_path)"
      ],
      "metadata": {
        "colab": {
          "base_uri": "https://localhost:8080/"
        },
        "id": "5VxqDaM6d1OJ",
        "outputId": "84339dbb-edac-46e9-9e12-0701d140b0ed"
      },
      "execution_count": 9,
      "outputs": [
        {
          "output_type": "stream",
          "name": "stderr",
          "text": [
            "<ipython-input-5-be496b21352b>:23: UserWarning: PySoundFile failed. Trying audioread instead.\n",
            "  x, fs = librosa.load(filename, sr=None)\n",
            "/usr/local/lib/python3.10/dist-packages/librosa/core/audio.py:184: FutureWarning: librosa.core.audio.__audioread_load\n",
            "\tDeprecated as of librosa version 0.10.0.\n",
            "\tIt will be removed in librosa version 1.0.\n",
            "  y, sr_native = __audioread_load(path, offset, duration, dtype)\n"
          ]
        }
      ]
    },
    {
      "cell_type": "code",
      "source": [
        "print(f\"X_LDN_train shape: {X_LDN_train.shape}\")\n",
        "print(f\"X_LDN_val shape: {X_LDN_val.shape}\")\n",
        "print(f\"X_LDN_test shape: {X_LDN_test.shape}\")\n",
        "print(f\"y_LDN_train shape: {y_LDN_train.shape}\")\n",
        "print(f\"y_LDN_val shape: {y_LDN_val.shape}\")\n",
        "print(f\"y_LDN_test shape: {y_LDN_test.shape}\")"
      ],
      "metadata": {
        "id": "Frd-sjrlZ635",
        "colab": {
          "base_uri": "https://localhost:8080/"
        },
        "outputId": "c6f354d8-3250-4e49-94d2-2d34ccade99d"
      },
      "execution_count": 10,
      "outputs": [
        {
          "output_type": "stream",
          "name": "stdout",
          "text": [
            "X_LDN_train shape: (540, 1001, 128)\n",
            "X_LDN_val shape: (67, 1001, 128)\n",
            "X_LDN_test shape: (68, 1001, 128)\n",
            "y_LDN_train shape: (540, 2)\n",
            "y_LDN_val shape: (67, 2)\n",
            "y_LDN_test shape: (68, 2)\n"
          ]
        }
      ]
    },
    {
      "cell_type": "markdown",
      "source": [
        "Save the X_deploy, y_deploy arrays as .npy files in order to use them to our NN models"
      ],
      "metadata": {
        "id": "6lqggiRayagW"
      }
    },
    {
      "cell_type": "code",
      "source": [
        "save_path = '/content/drive/My Drive/DeepLearning/code/deploy_dataset/'\n",
        "\n",
        "np.save(save_path + 'X_LDN_train.npy', X_LDN_train)\n",
        "np.save(save_path + 'X_LDN_val.npy', X_LDN_val)\n",
        "np.save(save_path + 'X_LDN_test.npy', X_LDN_test)\n",
        "np.save(save_path + 'y_LDN_train.npy', y_LDN_train)\n",
        "np.save(save_path + 'y_LDN_val.npy', y_LDN_val)\n",
        "np.save(save_path + 'y_LDN_test.npy', y_LDN_test)"
      ],
      "metadata": {
        "id": "HlLVk7EQV9ju"
      },
      "execution_count": 11,
      "outputs": []
    },
    {
      "cell_type": "markdown",
      "source": [
        "Bar plots depicting the distribution of classes across of the dataset of London."
      ],
      "metadata": {
        "id": "en0a7Cxb5KTJ"
      }
    },
    {
      "cell_type": "code",
      "source": [
        "arrays = [y_LDN_train, y_LDN_val, y_LDN_test]\n",
        "fig, axes = plt.subplots(1, 3, figsize=(15, 5))\n",
        "print('Showing the bar plots of Train Dataset, Validation Dataset, and Test Dataset')\n",
        "for i, arr in enumerate(arrays):\n",
        "    class_counts = np.sum(arr, axis=0)\n",
        "    axes[i].bar(np.arange(len(class_counts)), class_counts, color=['blue', 'orange'])\n",
        "    axes[i].set_title(f'{i}')\n",
        "    axes[i].set_xlabel('Class')\n",
        "    axes[i].set_ylabel('Count')\n",
        "    axes[i].set_xticks(np.arange(len(class_counts)))\n",
        "    axes[i].set_xticklabels(['Class 0', 'Class 1'])\n",
        "plt.tight_layout()\n",
        "plt.show()"
      ],
      "metadata": {
        "id": "v4kn5uS_E40i",
        "colab": {
          "base_uri": "https://localhost:8080/",
          "height": 525
        },
        "outputId": "1e55c265-82a3-46ae-eec9-f32bb4e3e8d3"
      },
      "execution_count": 17,
      "outputs": [
        {
          "output_type": "stream",
          "name": "stdout",
          "text": [
            "Showing the bar plots of Train Dataset, Validation Dataset, and Test Dataset\n"
          ]
        },
        {
          "output_type": "display_data",
          "data": {
            "text/plain": [
              "<Figure size 1500x500 with 3 Axes>"
            ],
            "image/png": "[encoded data removed]"
          },
          "metadata": {}
        }
      ]
    }
  ]
}
