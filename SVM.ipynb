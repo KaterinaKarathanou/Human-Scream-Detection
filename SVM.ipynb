{
  "cells": [
    {
      "cell_type": "markdown",
      "metadata": {
        "id": "iJmggEuKv84l"
      },
      "source": [
        "## Support Vector Machine (SVM)\n",
        "\n",
        "Firstly, let's run a machine learning algorithm to establish a baseline for comparison with other algorithms we will evaluate."
      ]
    },
    {
      "cell_type": "code",
      "execution_count": null,
      "metadata": {
        "colab": {
          "base_uri": "https://localhost:8080/"
        },
        "collapsed": true,
        "id": "X00J1o-UjjTn",
        "outputId": "6c2c0c78-df0d-4418-88f5-c6351decb92b"
      },
      "outputs": [],
      "source": [
        "!pip install librosa tensorflow matplotlib"
      ]
    },
    {
      "cell_type": "code",
      "execution_count": null,
      "metadata": {
        "id": "mYzLNsFD6zo8"
      },
      "outputs": [],
      "source": [
        "import numpy as np\n",
        "from sklearn.svm import SVC\n",
        "from sklearn.metrics import f1_score, accuracy_score, classification_report\n",
        "from sklearn.preprocessing import StandardScaler"
      ]
    },
    {
      "cell_type": "code",
      "execution_count": null,
      "metadata": {
        "colab": {
          "base_uri": "https://localhost:8080/"
        },
        "id": "QXMUfPVHjt7T",
        "outputId": "1c0301e6-c556-41d4-84f8-c76b9c450881"
      },
      "outputs": [
        {
          "name": "stdout",
          "output_type": "stream",
          "text": [
            "Mounted at /content/drive\n"
          ]
        }
      ],
      "source": [
        "from google.colab import drive\n",
        "drive.mount('/content/drive')"
      ]
    },
    {
      "cell_type": "code",
      "execution_count": null,
      "metadata": {
        "id": "Rhu8D51fkHoW"
      },
      "outputs": [],
      "source": [
        "data_path = \"/content/drive/My Drive/DeepLearning/code/dataset/\"\n",
        "\n",
        "X_train = np.load(data_path + 'X_train.npy')\n",
        "X_val = np.load(data_path + 'X_val.npy')\n",
        "X_test = np.load(data_path + 'X_test.npy')\n",
        "y_train = np.load(data_path + 'y_train.npy')\n",
        "y_val = np.load(data_path + 'y_val.npy')\n",
        "y_test = np.load(data_path + 'y_test.npy')"
      ]
    },
    {
      "cell_type": "code",
      "execution_count": null,
      "metadata": {
        "colab": {
          "base_uri": "https://localhost:8080/"
        },
        "collapsed": true,
        "id": "oQkrx6nl7WP-",
        "outputId": "66d749c5-5ea6-4e7a-f56e-cb883a47c2c5"
      },
      "outputs": [
        {
          "name": "stdout",
          "output_type": "stream",
          "text": [
            "Shapes before reshaping:\n",
            "X_train shape: (2794, 1001, 128)\n",
            "y_train shape: (2794, 2)\n",
            "X_test shape: (350, 1001, 128)\n",
            "y_test shape: (350, 2)\n",
            "X_val shape: (349, 1001, 128)\n",
            "y_val shape: (349, 2)\n",
            "Flattened shapes:\n",
            "X_train shape: (2794, 128128)\n",
            "y_train shape: (2794,)\n",
            "X_test shape: (350, 128128)\n",
            "y_test shape: (350,)\n",
            "X_val shape: (349, 128128)\n",
            "y_val shape: (349,)\n"
          ]
        }
      ],
      "source": [
        "print(\"Shapes before reshaping:\")\n",
        "print(f\"X_train shape: {X_train.shape}\")\n",
        "print(f\"y_train shape: {y_train.shape}\")\n",
        "print(f\"X_test shape: {X_test.shape}\")\n",
        "print(f\"y_test shape: {y_test.shape}\")\n",
        "print(f\"X_val shape: {X_val.shape}\")\n",
        "print(f\"y_val shape: {y_val.shape}\")\n",
        "\n",
        "# Flatten the data to 2D if needed (assuming X_train, X_val, X_test are 3D)\n",
        "X_train_flat = X_train.reshape(X_train.shape[0], -1)\n",
        "X_val_flat = X_val.reshape(X_val.shape[0], -1)\n",
        "X_test_flat = X_test.reshape(X_test.shape[0], -1)\n",
        "\n",
        "# Ensure labels are 1D\n",
        "if len(y_train.shape) > 1 and y_train.shape[1] > 1:\n",
        "    y_train = np.argmax(y_train, axis=1)\n",
        "if len(y_test.shape) > 1 and y_test.shape[1] > 1:\n",
        "    y_test = np.argmax(y_test, axis=1)\n",
        "if len(y_val.shape) > 1 and y_val.shape[1] > 1:\n",
        "    y_val = np.argmax(y_val, axis=1)\n",
        "\n",
        "print('Flattened shapes:')\n",
        "print(f\"X_train shape: {X_train_flat.shape}\")\n",
        "print(f\"y_train shape: {y_train.shape}\")\n",
        "print(f\"X_test shape: {X_test_flat.shape}\")\n",
        "print(f\"y_test shape: {y_test.shape}\")\n",
        "print(f\"X_val shape: {X_val_flat.shape}\")\n",
        "print(f\"y_val shape: {y_val.shape}\")\n"
      ]
    },
    {
      "cell_type": "code",
      "execution_count": null,
      "metadata": {
        "colab": {
          "base_uri": "https://localhost:8080/"
        },
        "id": "c0amIZeR7WNc",
        "outputId": "b0f80bc9-91be-41f1-f878-b6235df9211a"
      },
      "outputs": [
        {
          "name": "stdout",
          "output_type": "stream",
          "text": [
            "Validation Accuracy: 0.7937\n",
            "Validation F1 Score: 0.7733\n",
            "Test Accuracy: 0.7943\n",
            "Test F1 Score: 0.7634\n",
            "Classification Report:\n",
            "              precision    recall  f1-score   support\n",
            "\n",
            "           0       0.79      0.97      0.87       252\n",
            "           1       0.81      0.35      0.49        98\n",
            "\n",
            "    accuracy                           0.79       350\n",
            "   macro avg       0.80      0.66      0.68       350\n",
            "weighted avg       0.80      0.79      0.76       350\n",
            "\n"
          ]
        }
      ],
      "source": [
        "scaler = StandardScaler()\n",
        "\n",
        "# Fit on training data\n",
        "scaler.fit(X_train_flat)\n",
        "\n",
        "# Transform training and testing data\n",
        "X_train_scaled = scaler.transform(X_train_flat)\n",
        "X_val_scaled = scaler.transform(X_val_flat)\n",
        "X_test_scaled = scaler.transform(X_test_flat)\n",
        "\n",
        "# Initialize SVM classifier (adjust parameters as needed)\n",
        "svm = SVC(kernel='rbf', C=1.0, gamma='scale', random_state=42)\n",
        "\n",
        "# Train the SVM classifier\n",
        "svm.fit(X_train_flat, y_train)\n",
        "\n",
        "# Predict on validation set\n",
        "y_val_pred = svm.predict(X_val_flat)\n",
        "\n",
        "# Evaluate performance on validation set\n",
        "val_accuracy = accuracy_score(y_val, y_val_pred)\n",
        "val_f1 = f1_score(y_val, y_val_pred, average='weighted')  # Use weighted average for imbalanced datasets\n",
        "print(f'Validation Accuracy: {val_accuracy:.4f}')\n",
        "print(f'Validation F1 Score: {val_f1:.4f}')\n",
        "\n",
        "# Predict on test set\n",
        "y_test_pred = svm.predict(X_test_flat)\n",
        "\n",
        "# Evaluate performance on test set\n",
        "test_accuracy = accuracy_score(y_test, y_test_pred)\n",
        "test_f1 = f1_score(y_test, y_test_pred, average='weighted')  # Use weighted average for imbalanced datasets\n",
        "print(f'Test Accuracy: {test_accuracy:.4f}')\n",
        "print(f'Test F1 Score: {test_f1:.4f}')\n",
        "\n",
        "# Print classification report for test set\n",
        "print('Classification Report:')\n",
        "print(classification_report(y_test, y_test_pred))\n"
      ]
    },
    {
      "cell_type": "code",
      "execution_count": null,
      "metadata": {
        "colab": {
          "base_uri": "https://localhost:8080/",
          "height": 688
        },
        "id": "yZGGvu6z7WLf",
        "outputId": "5760a878-da76-49bb-f162-2ab4b25352ff"
      },
      "outputs": [
        {
          "name": "stdout",
          "output_type": "stream",
          "text": [
            "F1 Score: 0.49\n",
            "              precision    recall  f1-score   support\n",
            "\n",
            "           0       0.79      0.97      0.87       252\n",
            "           1       0.81      0.35      0.49        98\n",
            "\n",
            "    accuracy                           0.79       350\n",
            "   macro avg       0.80      0.66      0.68       350\n",
            "weighted avg       0.80      0.79      0.76       350\n",
            "\n",
            "Accuracy: 79.43%\n"
          ]
        },
        {
          "data": {
            "image/png": "[encoded data removed]",
            "text/plain": [
              "<Figure size 500x500 with 1 Axes>"
            ]
          },
          "metadata": {},
          "output_type": "display_data"
        }
      ],
      "source": [
        "from sklearn.metrics import f1_score, classification_report, accuracy_score, confusion_matrix\n",
        "import matplotlib.pyplot as plt\n",
        "import seaborn as sns\n",
        "\n",
        "\n",
        "# Calculate F1 score\n",
        "f1 = f1_score(y_test, y_test_pred)\n",
        "print('F1 Score: {:.2f}'.format(f1))\n",
        "\n",
        "# Print the classification report for detailed evaluation\n",
        "print(classification_report(y_test, y_test_pred))\n",
        "\n",
        "# Print the accuracy score for comparison\n",
        "accuracy = accuracy_score(y_test, y_test_pred)\n",
        "print('Accuracy: {:.2f}%'.format(100 * accuracy))\n",
        "\n",
        "# Function to plot confusion matrix\n",
        "def plot_cm(labels, y_test_pred, threshold=0.5):\n",
        "    y_test_pred = y_test_pred > threshold\n",
        "    cm = confusion_matrix(labels, y_test_pred)\n",
        "    plt.figure(figsize=(5, 5))\n",
        "    sns.heatmap(cm, annot=True, fmt=\"d\", cmap='Blues', cbar=False)\n",
        "    plt.title('Confusion matrix @{:.2f}'.format(threshold))\n",
        "    plt.ylabel('Actual label')\n",
        "    plt.xlabel('Predicted label')\n",
        "    plt.show()\n",
        "\n",
        "# Call the function to plot the confusion matrix\n",
        "plot_cm(y_test, y_test_pred)"
      ]
    },
    {
      "cell_type": "markdown",
      "metadata": {
        "id": "E8Ju3xXvv6oC"
      },
      "source": [
        "\n",
        "The initial SVM results on the imbalanced dataset provide a baseline for comparison with deep learning models. The accuracy is 79.43%, but this high value is misleading due to the class imbalance. The overall F1 score is 0.49, indicating the model struggles with precision and recall, especially for the minority class (screaming). For non-screaming audio, the model performs well with an F1 score of 0.87, but for screaming audio, the F1 score drops to 0.49 due to low recall (0.35). It is important to mention that in our Human Scream Detection project, specifically for surveillance, the number of False Positives (FP) plays a crucial role. A False Positive means that the recorded audio contains a scream, but the algorithm fails to recognize it. In real life, this would be a significant error, indicating that the system is not functioning effectively. These results highlight the need for data augmentation and advanced models to better detect screaming samples and address class imbalance."
      ]
    }
  ],
  "metadata": {
    "colab": {
      "provenance": []
    },
    "kernelspec": {
      "display_name": "Python 3",
      "name": "python3"
    },
    "language_info": {
      "name": "python"
    }
  },
  "nbformat": 4,
  "nbformat_minor": 0
}
