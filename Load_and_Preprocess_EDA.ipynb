{
  "nbformat": 4,
  "nbformat_minor": 0,
  "metadata": {
    "colab": {
      "provenance": []
    },
    "kernelspec": {
      "name": "python3",
      "display_name": "Python 3"
    },
    "language_info": {
      "name": "python"
    }
  },
  "cells": [
    {
      "cell_type": "code",
      "execution_count": null,
      "metadata": {
        "id": "WfO_cFRdvfQ9",
        "collapsed": true
      },
      "outputs": [],
      "source": [
        "#Installing the needed libraries\n",
        "!pip install librosa tensorflow matplotlib"
      ]
    },
    {
      "cell_type": "code",
      "source": [
        "import os\n",
        "import librosa\n",
        "import numpy as np\n",
        "import pandas as pd\n",
        "import matplotlib.pyplot as plt"
      ],
      "metadata": {
        "id": "D2k7VLpyvrbL"
      },
      "execution_count": null,
      "outputs": []
    },
    {
      "cell_type": "code",
      "source": [
        "from google.colab import drive\n",
        "drive.mount('/content/drive')"
      ],
      "metadata": {
        "id": "rmkRZHC0vuFW",
        "colab": {
          "base_uri": "https://localhost:8080/"
        },
        "outputId": "13562dde-4f50-467e-9773-6339aef0622b"
      },
      "execution_count": null,
      "outputs": [
        {
          "output_type": "stream",
          "name": "stdout",
          "text": [
            "Mounted at /content/drive\n"
          ]
        }
      ]
    },
    {
      "cell_type": "code",
      "source": [
        "screaming_file_path = '/content/drive/My Drive/DeepLearning/code/dataset/Screaming'\n",
        "notScreaming_file_path = '/content/drive/My Drive/DeepLearning/code/dataset/NotScreaming'"
      ],
      "metadata": {
        "id": "INMZMP9UvuDj"
      },
      "execution_count": null,
      "outputs": []
    },
    {
      "cell_type": "markdown",
      "source": [
        "### Load the Data"
      ],
      "metadata": {
        "id": "5VLDklkVvyLN"
      }
    },
    {
      "cell_type": "code",
      "source": [
        "def load_audio_files(folder_path, label):\n",
        "    audio_files = []\n",
        "    durations = []\n",
        "    amplitudes = []\n",
        "    sample_rates = []\n",
        "    zcr = []\n",
        "    mfcc = []\n",
        "    chroma = []\n",
        "    mel_spectrogram = []\n",
        "    spectral_centroid = []\n",
        "    spectral_bandwidth = []\n",
        "    spectral_rolloff = []\n",
        "    spectral_flux = []\n",
        "    spectral_contrast = []\n",
        "    spectral_flatness = []\n",
        "    rms = []\n",
        "    energy = []\n",
        "    labels = []\n",
        "\n",
        "    for file_name in os.listdir(folder_path):\n",
        "        if file_name.endswith('.wav'):\n",
        "            file_path = os.path.join(folder_path, file_name)\n",
        "            y, sr = librosa.load(file_path, sr=None)\n",
        "            audio_files.append(y)\n",
        "            durations.append(librosa.get_duration(y=y, sr=sr))\n",
        "            amplitudes.append(np.max(np.abs(y)))\n",
        "            sample_rates.append(sr)\n",
        "            zcr.append(np.mean(librosa.feature.zero_crossing_rate(y)))\n",
        "            mfcc_features = librosa.feature.mfcc(y=y, sr=sr, n_mfcc=13)\n",
        "            mfcc.append(np.mean(mfcc_features, axis=1))\n",
        "            chroma_features = librosa.feature.chroma_stft(y=y, sr=sr, n_chroma=12)\n",
        "            chroma.append(np.mean(chroma_features, axis=1))\n",
        "            mel_spectrogram_features = librosa.feature.melspectrogram(y=y, sr=sr, n_mels=40)  # Higher resolution example\n",
        "            mel_spectrogram.append(np.mean(mel_spectrogram_features, axis=1))\n",
        "            spectral_centroid.append(np.mean(librosa.feature.spectral_centroid(y=y, sr=sr)))\n",
        "            spectral_bandwidth.append(np.mean(librosa.feature.spectral_bandwidth(y=y, sr=sr)))\n",
        "            spectral_rolloff.append(np.mean(librosa.feature.spectral_rolloff(y=y, sr=sr)))\n",
        "            spectral_flux.append(np.mean(librosa.onset.onset_strength(y=y, sr=sr)))\n",
        "            spectral_contrast.append(np.mean(librosa.feature.spectral_contrast(y=y, sr=sr)))\n",
        "            spectral_flatness.append(np.mean(librosa.feature.spectral_flatness(y=y)))\n",
        "            rms.append(np.mean(librosa.feature.rms(y=y)))\n",
        "            energy.append(np.sum(y**2))\n",
        "            labels.append(label)\n",
        "\n",
        "    return {\n",
        "        'File': [file_name for file_name in os.listdir(folder_path) if file_name.endswith('.wav')],\n",
        "        'Label': labels,\n",
        "        'Duration': durations,\n",
        "        'Max Amplitude': amplitudes,\n",
        "        'Sample Rate': sample_rates,\n",
        "        'ZCR': zcr,\n",
        "        'MFCC': mfcc,\n",
        "        'Chroma': chroma,\n",
        "        'Mel Spectrogram': mel_spectrogram,\n",
        "        'Spectral Centroid': spectral_centroid,\n",
        "        'Spectral Bandwidth': spectral_bandwidth,\n",
        "        'Spectral Rolloff': spectral_rolloff,\n",
        "        'Spectral Flux': spectral_flux,\n",
        "        'Spectral Contrast': spectral_contrast,\n",
        "        'Spectral Flatness': spectral_flatness,\n",
        "        'RMS': rms,\n",
        "        'Energy': energy\n",
        "    }\n",
        "\n",
        "\n",
        "screaming_data = load_audio_files(screaming_file_path, 1)\n",
        "notscreaming_data = load_audio_files(notScreaming_file_path, 0)"
      ],
      "metadata": {
        "id": "gzTiumlxvw2N",
        "colab": {
          "base_uri": "https://localhost:8080/"
        },
        "outputId": "678f60bc-4c3f-481c-f5b1-91331150101f"
      },
      "execution_count": null,
      "outputs": [
        {
          "output_type": "stream",
          "name": "stderr",
          "text": [
            "/usr/local/lib/python3.10/dist-packages/librosa/core/pitch.py:101: UserWarning: Trying to estimate tuning from empty frequency set.\n",
            "  return pitch_tuning(\n"
          ]
        }
      ]
    },
    {
      "cell_type": "code",
      "source": [
        "screaming_df = pd.DataFrame(screaming_data)\n",
        "notscreaming_df = pd.DataFrame(notscreaming_data)\n",
        "\n",
        "audio_data_df = pd.concat([screaming_df, notscreaming_df], ignore_index=True)\n",
        "\n",
        "\n",
        "csv_path = '/content/drive/My Drive/DeepLearning/code/dataset/audio_data_eda.csv'\n",
        "audio_data_df.to_csv(csv_path, index=False)\n",
        "\n",
        "\n",
        "audio_data_df = pd.read_csv(csv_path)"
      ],
      "metadata": {
        "id": "Az4jnnygvuB3"
      },
      "execution_count": null,
      "outputs": []
    },
    {
      "cell_type": "code",
      "source": [
        "print(audio_data_df.head())"
      ],
      "metadata": {
        "id": "s6Irrgeovt_b",
        "colab": {
          "base_uri": "https://localhost:8080/"
        },
        "outputId": "afa7ad38-b59a-43fb-c43e-7a6e5629081f"
      },
      "execution_count": null,
      "outputs": [
        {
          "output_type": "stream",
          "name": "stdout",
          "text": [
            "                  File  Label  Duration  Max Amplitude  Sample Rate       ZCR  \\\n",
            "0  ---1_cCGK4M_out.wav      1      10.0       0.728760        44100  0.059231   \n",
            "1  0JOdbnmi_Og_out.wav      1      10.0       0.690460        44100  0.074159   \n",
            "2  -2yygHLdpXc_out.wav      1      10.0       0.998123        44100  0.106283   \n",
            "3  -20uudT97E0_out.wav      1      10.0       0.790237        44100  0.044368   \n",
            "4  0-RnTXpp8Q0_out.wav      1      10.0       0.465820        44100  0.050893   \n",
            "\n",
            "                                                MFCC  \\\n",
            "0  [-128.8204      153.94453     -44.551456     4...   \n",
            "1  [-225.33205    135.51776    -58.501278     9.9...   \n",
            "2  [-226.98717    101.09908   -146.91959    -21.1...   \n",
            "3  [-202.97813     187.05995     -42.500618     1...   \n",
            "4  [-417.2208     135.55249     -8.679534     3.2...   \n",
            "\n",
            "                                              Chroma  \\\n",
            "0  [0.5896564  0.58744466 0.60435575 0.63065773 0...   \n",
            "1  [0.30595174 0.3171385  0.3601824  0.4003121  0...   \n",
            "2  [0.07747294 0.10272133 0.24723306 0.33593756 0...   \n",
            "3  [0.17080583 0.18461816 0.25578022 0.36041123 0...   \n",
            "4  [0.5081678  0.48614368 0.50637376 0.53718823 0...   \n",
            "\n",
            "                                     Mel Spectrogram  Spectral Centroid  \\\n",
            "0  [4.3590656e+01 4.5069218e+01 1.7938726e+01 1.3...        2577.640103   \n",
            "1  [1.6380872e-01 9.8779309e-01 1.7226911e+00 2.1...        2697.479978   \n",
            "2  [2.0892769e-03 2.3748884e-03 3.2141488e-03 5.8...        2517.450922   \n",
            "3  [2.1757147e+00 1.2308041e+01 1.0951688e+01 4.5...        1694.720778   \n",
            "4  [8.9727473e-03 3.8545024e-02 4.4983406e-02 4.0...        2396.412472   \n",
            "\n",
            "   Spectral Bandwidth  Spectral Rolloff  Spectral Flux  Spectral Contrast  \\\n",
            "0         3035.378538       5408.830867       1.159893          18.169425   \n",
            "1         2708.828312       5174.588586       1.210541          21.906938   \n",
            "2         1412.506272       3580.756847       0.667398          24.860610   \n",
            "3         1867.330656       3100.781250       1.111419          19.459816   \n",
            "4         3069.114684       5058.104449       1.069263          17.348917   \n",
            "\n",
            "   Spectral Flatness       RMS      Energy  \n",
            "0           0.010685  0.156950  12718.8510  \n",
            "1           0.000123  0.086844   4418.2640  \n",
            "2           0.079540  0.233910  27399.4080  \n",
            "3           0.000067  0.130435   9971.2540  \n",
            "4           0.001088  0.012237    308.5693  \n"
          ]
        }
      ]
    }
  ]
}